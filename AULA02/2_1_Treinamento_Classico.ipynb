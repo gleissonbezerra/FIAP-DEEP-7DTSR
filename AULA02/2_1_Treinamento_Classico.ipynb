{
  "nbformat": 4,
  "nbformat_minor": 0,
  "metadata": {
    "colab": {
      "provenance": []
    },
    "kernelspec": {
      "name": "python3",
      "display_name": "Python 3"
    },
    "language_info": {
      "name": "python"
    }
  },
  "cells": [
    {
      "cell_type": "markdown",
      "source": [
        "# XOR ESTIMATOR\n",
        "\n",
        "![XOR_Logic_Gate_symbol_with_truth_table_480x480.webp](data:image/webp;base64,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)"
      ],
      "metadata": {
        "id": "vMvYc4XnfZ--"
      }
    },
    {
      "cell_type": "markdown",
      "source": [
        "## Util Functions and Dependencies"
      ],
      "metadata": {
        "id": "lMYYUvvBffDE"
      }
    },
    {
      "cell_type": "code",
      "source": [
        "import numpy as np\n",
        "\n",
        "def sigmoid(x):\n",
        "    return 1 / (1 + np.exp(-x))\n",
        "\n",
        "def sigmoid_derivative(x):\n",
        "    return x * (1 - x)\n",
        "\n",
        "def mean_squared_error(y_true, y_pred):\n",
        "    return ((y_true - y_pred) ** 2).mean()"
      ],
      "metadata": {
        "id": "seBN0v4EL7vR"
      },
      "execution_count": null,
      "outputs": []
    },
    {
      "cell_type": "markdown",
      "source": [
        "## Training Architecture"
      ],
      "metadata": {
        "id": "x7vsh-i_fqyg"
      }
    },
    {
      "cell_type": "code",
      "source": [
        "def initialize_weights_and_biases(input_size, hidden_size, output_size):\n",
        "    # Inicialização de pesos e vieses com valores aleatórios pequenos\n",
        "    np.random.seed(0)\n",
        "    input_layer_weights = np.random.rand(input_size, hidden_size)\n",
        "    input_layer_biases = np.random.rand(1, hidden_size)\n",
        "    hidden_layer_weights = np.random.rand(hidden_size, output_size)\n",
        "    hidden_layer_biases = np.random.rand(1, output_size)\n",
        "    return input_layer_weights, input_layer_biases, hidden_layer_weights, hidden_layer_biases\n",
        "\n",
        "def forward_propagation(X, input_layer_weights, input_layer_biases, hidden_layer_weights, hidden_layer_biases):\n",
        "    # Camada de entrada para camada escondida\n",
        "    hidden_layer_input = np.dot(X, input_layer_weights) + input_layer_biases\n",
        "    hidden_layer_output = sigmoid(hidden_layer_input)\n",
        "\n",
        "    # Camada escondida para camada de saída\n",
        "    output_layer_input = np.dot(hidden_layer_output, hidden_layer_weights) + hidden_layer_biases\n",
        "    #*** COMPLETE AQUI ***#\n",
        "\n",
        "    return hidden_layer_output, output_layer_output\n",
        "\n",
        "def backpropagation(X, y, hidden_layer_output, output_layer_output, input_layer_weights, hidden_layer_weights,\n",
        "                    input_layer_biases, hidden_layer_biases, learning_rate):\n",
        "    # Calcula o erro na camada de saída\n",
        "    output_layer_error = y - output_layer_output\n",
        "    output_layer_delta = output_layer_error * sigmoid_derivative(output_layer_output)\n",
        "\n",
        "    # Calcula o erro na camada escondida\n",
        "    hidden_layer_error = output_layer_delta.dot(hidden_layer_weights.T)\n",
        "    hidden_layer_delta = hidden_layer_error * sigmoid_derivative(hidden_layer_output)\n",
        "\n",
        "    # Atualiza pesos e vieses\n",
        "    hidden_layer_weights += hidden_layer_output.T.dot(output_layer_delta) * learning_rate\n",
        "    hidden_layer_biases += np.sum(output_layer_delta, axis=0, keepdims=True) * learning_rate\n",
        "    input_layer_weights += X.T.dot(hidden_layer_delta) * learning_rate\n",
        "    input_layer_biases += np.sum(hidden_layer_delta, axis=0, keepdims=True) * learning_rate\n",
        "\n",
        "def train(X, y, input_layer_weights, input_layer_biases, hidden_layer_weights, hidden_layer_biases, learning_rate, epochs):\n",
        "    for _ in range(epochs):\n",
        "\n",
        "        #*** COMPLETE AQUI ***#\n",
        "        backpropagation(X, y, hidden_layer_output, output_layer_output, input_layer_weights, hidden_layer_weights, input_layer_biases, hidden_layer_biases, learning_rate)\n",
        "\n",
        "def predict(X, input_layer_weights, input_layer_biases, hidden_layer_weights, hidden_layer_biases):\n",
        "    _, output_layer_output = forward_propagation(X, input_layer_weights, input_layer_biases, hidden_layer_weights, hidden_layer_biases)\n",
        "    return output_layer_output\n"
      ],
      "metadata": {
        "id": "Qz0aTByYfnWD"
      },
      "execution_count": null,
      "outputs": []
    },
    {
      "cell_type": "markdown",
      "source": [
        "## Training"
      ],
      "metadata": {
        "id": "eUKaUFfrgW4B"
      }
    },
    {
      "cell_type": "code",
      "source": [
        "\n",
        "# Dados de treinamento\n",
        "x = np.array([[0, 0], [0, 1], [1, 0], [1, 1]])\n",
        "y = np.array([[0], [1], [1], [0]])\n",
        "\n",
        "input_size = 2\n",
        "hidden_size = 2\n",
        "output_size = 1\n",
        "\n",
        "input_layer_weights, input_layer_biases, hidden_layer_weights, hidden_layer_biases = initialize_weights_and_biases(input_size, hidden_size, output_size)\n",
        "\n",
        "learning_rate = 0.1\n",
        "epochs = 10000\n",
        "\n",
        "train(x, y, input_layer_weights, input_layer_biases, hidden_layer_weights, hidden_layer_biases, learning_rate, epochs)\n"
      ],
      "metadata": {
        "id": "NBjOYI1OfyVm"
      },
      "execution_count": null,
      "outputs": []
    },
    {
      "cell_type": "markdown",
      "source": [
        "# Tests"
      ],
      "metadata": {
        "id": "bgXuqVCqgk1S"
      }
    },
    {
      "cell_type": "code",
      "source": [
        "# Teste\n",
        "test_data = np.array([[0, 0], [0, 1], [1, 0], [1, 1]])\n",
        "predictions = predict(test_data, input_layer_weights, input_layer_biases, hidden_layer_weights, hidden_layer_biases)\n",
        "print(\"Previsões:\")\n",
        "print(predictions)"
      ],
      "metadata": {
        "id": "G9MYojHbgkW4"
      },
      "execution_count": null,
      "outputs": []
    }
  ]
}